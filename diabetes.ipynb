{
  "cells": [
    {
      "cell_type": "markdown",
      "metadata": {
        "id": "view-in-github",
        "colab_type": "text"
      },
      "source": [
        "<a href=\"https://colab.research.google.com/github/Suriya-Panneerselvam/DiabetesPrediction/blob/main/diabetes.ipynb\" target=\"_parent\"><img src=\"https://colab.research.google.com/assets/colab-badge.svg\" alt=\"Open In Colab\"/></a>"
      ]
    },
    {
      "cell_type": "code",
      "source": [],
      "metadata": {
        "id": "pbmi7W6RqT-K"
      },
      "execution_count": null,
      "outputs": []
    },
    {
      "cell_type": "code",
      "execution_count": null,
      "metadata": {
        "colab": {
          "base_uri": "https://localhost:8080/"
        },
        "id": "6QFEfsQgPgEy",
        "outputId": "585073d4-4f7e-43b5-85ab-ffbf421f6104"
      },
      "outputs": [
        {
          "output_type": "stream",
          "name": "stdout",
          "text": [
            "Mounted at /content/drive\n"
          ]
        }
      ],
      "source": [
        "from google.colab import drive\n",
        "drive.mount('/content/drive')"
      ]
    },
    {
      "cell_type": "code",
      "execution_count": null,
      "metadata": {
        "id": "7vyzsIoWDoZo"
      },
      "outputs": [],
      "source": [
        "import pandas as pd\n",
        "from sklearn.model_selection import train_test_split\n",
        "from sklearn.tree import DecisionTreeClassifier\n",
        "from sklearn import metrics\n",
        "from sklearn.metrics import accuracy_score,confusion_matrix, classification_report\n",
        "import numpy as np\n",
        "import pickle\n",
        "\n",
        "#importing data\n",
        "data=pd.read_csv('/content/drive/MyDrive/Colab Notebooks/diabetes.csv')\n",
        "data.head()\n",
        "\n",
        "#spliting the data\n",
        "x=data.iloc[:,0:8]\n",
        "y=data.iloc[:,-1]\n",
        "\n",
        "x_train,x_test,y_train,y_test=train_test_split(x,y,test_size=0.30)\n",
        "\n",
        "#decision tree\n",
        "model=DecisionTreeClassifier()\n",
        "model.fit(x_train,y_train)\n",
        "\n",
        "y_pred=model.predict(x_test)\n",
        "model_accuracy=accuracy_score(y_test,y_pred)\n",
        "print ('The accuracy score of decision tree:',model_accuracy)\n",
        "\n",
        "#confusion matrics\n",
        "print('The confusion metrics of data:\\n',confusion_matrix(y_test,y_pred))\n",
        "\n",
        "#confusion matrics accuracy score\n",
        "metrics_accuracy=metrics.accuracy_score(y_test,y_pred)\n",
        "print('The accuracy score of confusion metrics:',metrics_accuracy)\n",
        "\n",
        "#classification report\n",
        "print('The classification report of data:\\n',classification_report(y_test,y_pred))\n",
        "\n",
        "#softwere convertion\n",
        "with open('model.pkl','wb') as file:\n",
        "    pickle.dump(model,file)\n",
        "with open('model.pkl','rb') as file:\n",
        "    load_model=pickle.load(file)\n",
        "\n",
        "#testing the model by user input\n",
        "Pregnancies=int(input(\"Enter pregnancies value:\"))\n",
        "Glucose=int(input('Enter glucose value:'))\n",
        "BloodPressure=int(input('Enter blood pressure value:'))\n",
        "SkinThickness=int(input('Enter skin thickness value:'))\n",
        "Insulin=int(input('Enter insulin value:'))\n",
        "BMI=float(input('Enter bmi value:'))\n",
        "DiabetesPedigreeFunction=float(input('Enter diabetes pedigree function value:'))\n",
        "Age=int(input('Enter age:'))\n",
        "\n",
        "input=np.array([[Pregnancies,Glucose,BloodPressure,SkinThickness,Insulin,BMI,DiabetesPedigreeFunction,Age]])\n",
        "\n",
        "prediction=load_model.predict(input)\n",
        "\n",
        "#final prediction output\n",
        "print('The prediction:',prediction)\n",
        "if prediction==0:\n",
        "    print('The person is not diabetic')\n",
        "else:\n",
        "    print('The person is diabetic')"
      ]
    }
  ],
  "metadata": {
    "colab": {
      "provenance": [],
      "include_colab_link": true
    },
    "kernelspec": {
      "display_name": "Python 3",
      "name": "python3"
    },
    "language_info": {
      "name": "python"
    }
  },
  "nbformat": 4,
  "nbformat_minor": 0
}